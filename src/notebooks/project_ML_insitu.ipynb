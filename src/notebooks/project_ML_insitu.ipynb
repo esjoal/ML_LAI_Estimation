{
  "cells": [
    {
      "cell_type": "code",
      "execution_count": 1,
      "metadata": {
        "id": "JrLfbzAl3Epn"
      },
      "outputs": [],
      "source": [
        "import numpy as np\n",
        "import pandas as pd\n",
        "import datetime as dt\n",
        "import matplotlib.pyplot as plt\n",
        "import seaborn as sns\n",
        "\n",
        "from sklearn import metrics"
      ]
    },
    {
      "cell_type": "markdown",
      "metadata": {},
      "source": [
        "Para Google Colab"
      ]
    },
    {
      "cell_type": "code",
      "execution_count": 2,
      "metadata": {
        "colab": {
          "base_uri": "https://localhost:8080/"
        },
        "id": "2S-QdwDV3GAj",
        "outputId": "51032d6a-e635-417c-fd7b-1989dc771d82"
      },
      "outputs": [
        {
          "data": {
            "text/plain": [
              "\"from google.colab import drive\\ndrive.mount('/content/drive')\""
            ]
          },
          "execution_count": 2,
          "metadata": {},
          "output_type": "execute_result"
        }
      ],
      "source": [
        "'''from google.colab import drive\n",
        "drive.mount('/content/drive')'''"
      ]
    },
    {
      "cell_type": "code",
      "execution_count": 3,
      "metadata": {
        "id": "BNBk47693Mnu"
      },
      "outputs": [],
      "source": [
        "#drive_path = '/content/drive/MyDrive/Colab Notebooks/'\n",
        "#!ls /content/drive/MyDrive/Colab\\ Notebooks/\n",
        "#folder_path = 'COPERNICUS_GBOV_RM7_20253103525/RM7/'"
      ]
    },
    {
      "cell_type": "markdown",
      "metadata": {},
      "source": [
        "Para local"
      ]
    },
    {
      "cell_type": "code",
      "execution_count": 4,
      "metadata": {},
      "outputs": [],
      "source": [
        "drive_path = ''\n",
        "folder_path = '../data/COPERNICUS_GBOV_RM7_20253103525/RM7/'"
      ]
    },
    {
      "cell_type": "markdown",
      "metadata": {
        "id": "MEy6SAMrThCh"
      },
      "source": [
        "Cargamos dataset de medidas in-situ"
      ]
    },
    {
      "cell_type": "code",
      "execution_count": 5,
      "metadata": {
        "id": "BtnWh3yOyxFm"
      },
      "outputs": [],
      "source": [
        "import glob\n",
        "file_list = glob.glob(drive_path + folder_path + \"*.csv\")  # Esto busca todos los archivos que terminen en .csv"
      ]
    },
    {
      "cell_type": "markdown",
      "metadata": {
        "id": "SJJgOiRNbhMQ"
      },
      "source": [
        "Primero repasamos el folder y abrimos cada csv para identificar los archivos que cumplen con las columnas requeridas."
      ]
    },
    {
      "cell_type": "code",
      "execution_count": 7,
      "metadata": {
        "colab": {
          "base_uri": "https://localhost:8080/"
        },
        "id": "3Bq--x0Yz_VE",
        "outputId": "a43cc093-aa46-40ff-d8dd-0fe4e4dc5340"
      },
      "outputs": [
        {
          "name": "stdout",
          "output_type": "stream",
          "text": [
            "Archivos que no cumplen con las columnas esperadas:\n"
          ]
        },
        {
          "data": {
            "text/plain": [
              "['../data/COPERNICUS_GBOV_RM7_20253103525/RM7\\\\GBOV_RM7_HARV_HARV_011_20180814T110900Z_20180814T110900Z_021_ACR_1.0.csv',\n",
              " '../data/COPERNICUS_GBOV_RM7_20253103525/RM7\\\\GBOV_RM7_HARV_HARV_024_20180814T203500Z_20180814T203500Z_021_ACR_1.0.csv']"
            ]
          },
          "execution_count": 7,
          "metadata": {},
          "output_type": "execute_result"
        }
      ],
      "source": [
        "# Lista de columnas esperadas\n",
        "expected_columns = [\n",
        "    'GBOV_ID', 'Site', 'GROUND_DATA_PI', 'GROUND_DATA_PIs_Email', 'GBOV_Email', 'Network',\n",
        "    'Elevation', 'IGBP_class', 'Lat_IS', 'Lon_IS', 'TIME_IS', 'Version', 'up_flag', 'down_flag',\n",
        "    'LAI_Miller_up', 'LAI_Warren_up', 'LAIe_Miller_up', 'LAIe_Warren_up', 'LAI_Miller_down',\n",
        "    'LAI_Warren_down', 'LAIe_Miller_down', 'LAIe_Warren_down', 'LAI_Miller_up_err', 'LAI_Warren_up_err',\n",
        "    'LAIe_Miller_up_err', 'LAIe_Warren_up_err', 'clumping_Miller_up', 'clumping_Warren_up',\n",
        "    'LAI_Miller_down_err', 'LAI_Warren_down_err', 'LAIe_Miller_down_err', 'LAIe_Warren_down_err',\n",
        "    'clumping_Miller_down', 'clumping_Warren_down', 'clumping_Miller_up_err', 'clumping_Warren_up_err',\n",
        "    'clumping_Miller_down_err', 'clumping_Warren_down_err'\n",
        "]\n",
        "\n",
        "# Lista para guardar los nombres de los archivos que no cumplen\n",
        "invalid_files = []\n",
        "\n",
        "# Paso 1: Leer cada archivo CSV y verificar las columnas\n",
        "\n",
        "for file in file_list:\n",
        "    df_invidual = pd.read_csv(file, sep=';')\n",
        "\n",
        "    # Verificar si las columnas son las esperadas\n",
        "    missing_columns = [col for col in expected_columns if col not in df_invidual.columns]\n",
        "    extra_columns = [col for col in df_invidual.columns if col not in expected_columns]\n",
        "\n",
        "    # Si faltan columnas o hay columnas extra, agregamos el nombre del archivo a la lista\n",
        "    if missing_columns or extra_columns:\n",
        "        invalid_files.append(file)\n",
        "\n",
        "# Paso 2: Mostrar los nombres de los archivos que no cumplen\n",
        "print(\"Archivos que no cumplen con las columnas esperadas:\")\n",
        "invalid_files\n"
      ]
    },
    {
      "cell_type": "code",
      "execution_count": 8,
      "metadata": {
        "id": "5n6NHyCZAoNJ"
      },
      "outputs": [],
      "source": [
        "valid_files_list = [archi for archi in file_list if archi not in invalid_files]"
      ]
    },
    {
      "cell_type": "markdown",
      "metadata": {
        "id": "Y8J9AGR-b7yp"
      },
      "source": [
        "Creamos un unico dataframe a partir de todos los csv validos"
      ]
    },
    {
      "cell_type": "code",
      "execution_count": 9,
      "metadata": {
        "colab": {
          "base_uri": "https://localhost:8080/",
          "height": 516
        },
        "id": "vJ_vgK1q0fxi",
        "outputId": "8330b2e2-43ab-451c-cd82-202fb001ada9"
      },
      "outputs": [
        {
          "data": {
            "text/html": [
              "<div>\n",
              "<style scoped>\n",
              "    .dataframe tbody tr th:only-of-type {\n",
              "        vertical-align: middle;\n",
              "    }\n",
              "\n",
              "    .dataframe tbody tr th {\n",
              "        vertical-align: top;\n",
              "    }\n",
              "\n",
              "    .dataframe thead th {\n",
              "        text-align: right;\n",
              "    }\n",
              "</style>\n",
              "<table border=\"1\" class=\"dataframe\">\n",
              "  <thead>\n",
              "    <tr style=\"text-align: right;\">\n",
              "      <th></th>\n",
              "      <th>GBOV_ID</th>\n",
              "      <th>Site</th>\n",
              "      <th>GROUND_DATA_PI</th>\n",
              "      <th>GROUND_DATA_PIs_Email</th>\n",
              "      <th>GBOV_Email</th>\n",
              "      <th>Network</th>\n",
              "      <th>Elevation</th>\n",
              "      <th>IGBP_class</th>\n",
              "      <th>Lat_IS</th>\n",
              "      <th>Lon_IS</th>\n",
              "      <th>...</th>\n",
              "      <th>LAI_Miller_down_err</th>\n",
              "      <th>LAI_Warren_down_err</th>\n",
              "      <th>LAIe_Miller_down_err</th>\n",
              "      <th>LAIe_Warren_down_err</th>\n",
              "      <th>clumping_Miller_down</th>\n",
              "      <th>clumping_Warren_down</th>\n",
              "      <th>clumping_Miller_up_err</th>\n",
              "      <th>clumping_Warren_up_err</th>\n",
              "      <th>clumping_Miller_down_err</th>\n",
              "      <th>clumping_Warren_down_err</th>\n",
              "    </tr>\n",
              "  </thead>\n",
              "  <tbody>\n",
              "    <tr>\n",
              "      <th>0</th>\n",
              "      <td>GBOV_RM7_958</td>\n",
              "      <td>Bartlett Experimental Forest</td>\n",
              "      <td>Courtney Meier</td>\n",
              "      <td>cmeier@battelleecology.org</td>\n",
              "      <td>support-copernicus-gbov@acri-st.fr</td>\n",
              "      <td>NEON</td>\n",
              "      <td>232</td>\n",
              "      <td>Mixed Forest</td>\n",
              "      <td>44.063901</td>\n",
              "      <td>-71.287308</td>\n",
              "      <td>...</td>\n",
              "      <td>0.038954</td>\n",
              "      <td>0.037536</td>\n",
              "      <td>0.025952</td>\n",
              "      <td>0.027376</td>\n",
              "      <td>0.870976</td>\n",
              "      <td>0.914188</td>\n",
              "      <td>0.020388</td>\n",
              "      <td>0.045145</td>\n",
              "      <td>0.086048</td>\n",
              "      <td>0.119765</td>\n",
              "    </tr>\n",
              "    <tr>\n",
              "      <th>1</th>\n",
              "      <td>GBOV_RM7_979</td>\n",
              "      <td>Bartlett Experimental Forest</td>\n",
              "      <td>Courtney Meier</td>\n",
              "      <td>cmeier@battelleecology.org</td>\n",
              "      <td>support-copernicus-gbov@acri-st.fr</td>\n",
              "      <td>NEON</td>\n",
              "      <td>232</td>\n",
              "      <td>Mixed Forest</td>\n",
              "      <td>44.063901</td>\n",
              "      <td>-71.287308</td>\n",
              "      <td>...</td>\n",
              "      <td>0.043254</td>\n",
              "      <td>0.059245</td>\n",
              "      <td>0.03314</td>\n",
              "      <td>0.050986</td>\n",
              "      <td>0.899206</td>\n",
              "      <td>0.927963</td>\n",
              "      <td>0.018524</td>\n",
              "      <td>0.039834</td>\n",
              "      <td>0.069546</td>\n",
              "      <td>0.129738</td>\n",
              "    </tr>\n",
              "    <tr>\n",
              "      <th>2</th>\n",
              "      <td>GBOV_RM7_910</td>\n",
              "      <td>Bartlett Experimental Forest</td>\n",
              "      <td>Courtney Meier</td>\n",
              "      <td>cmeier@battelleecology.org</td>\n",
              "      <td>support-copernicus-gbov@acri-st.fr</td>\n",
              "      <td>NEON</td>\n",
              "      <td>232</td>\n",
              "      <td>Mixed Forest</td>\n",
              "      <td>44.063901</td>\n",
              "      <td>-71.287308</td>\n",
              "      <td>...</td>\n",
              "      <td>0.066568</td>\n",
              "      <td>0.067922</td>\n",
              "      <td>0.034103</td>\n",
              "      <td>0.039934</td>\n",
              "      <td>0.848925</td>\n",
              "      <td>0.909968</td>\n",
              "      <td>0.017414</td>\n",
              "      <td>0.039298</td>\n",
              "      <td>0.075073</td>\n",
              "      <td>0.126795</td>\n",
              "    </tr>\n",
              "    <tr>\n",
              "      <th>3</th>\n",
              "      <td>GBOV_RM7_934</td>\n",
              "      <td>Bartlett Experimental Forest</td>\n",
              "      <td>Courtney Meier</td>\n",
              "      <td>cmeier@battelleecology.org</td>\n",
              "      <td>support-copernicus-gbov@acri-st.fr</td>\n",
              "      <td>NEON</td>\n",
              "      <td>232</td>\n",
              "      <td>Mixed Forest</td>\n",
              "      <td>44.063901</td>\n",
              "      <td>-71.287308</td>\n",
              "      <td>...</td>\n",
              "      <td>0.017358</td>\n",
              "      <td>0.029335</td>\n",
              "      <td>0.015763</td>\n",
              "      <td>0.026817</td>\n",
              "      <td>0.953405</td>\n",
              "      <td>0.961113</td>\n",
              "      <td>0.019804</td>\n",
              "      <td>0.040532</td>\n",
              "      <td>0.065676</td>\n",
              "      <td>0.131289</td>\n",
              "    </tr>\n",
              "    <tr>\n",
              "      <th>4</th>\n",
              "      <td>GBOV_RM7_973</td>\n",
              "      <td>Bartlett Experimental Forest</td>\n",
              "      <td>Courtney Meier</td>\n",
              "      <td>cmeier@battelleecology.org</td>\n",
              "      <td>support-copernicus-gbov@acri-st.fr</td>\n",
              "      <td>NEON</td>\n",
              "      <td>232</td>\n",
              "      <td>Mixed Forest</td>\n",
              "      <td>44.063901</td>\n",
              "      <td>-71.287308</td>\n",
              "      <td>...</td>\n",
              "      <td>0.05235</td>\n",
              "      <td>0.065564</td>\n",
              "      <td>0.041639</td>\n",
              "      <td>0.050919</td>\n",
              "      <td>0.888029</td>\n",
              "      <td>0.906574</td>\n",
              "      <td>0.017908</td>\n",
              "      <td>0.037853</td>\n",
              "      <td>0.075053</td>\n",
              "      <td>0.123742</td>\n",
              "    </tr>\n",
              "  </tbody>\n",
              "</table>\n",
              "<p>5 rows × 38 columns</p>\n",
              "</div>"
            ],
            "text/plain": [
              "        GBOV_ID                          Site  GROUND_DATA_PI  \\\n",
              "0  GBOV_RM7_958  Bartlett Experimental Forest  Courtney Meier   \n",
              "1  GBOV_RM7_979  Bartlett Experimental Forest  Courtney Meier   \n",
              "2  GBOV_RM7_910  Bartlett Experimental Forest  Courtney Meier   \n",
              "3  GBOV_RM7_934  Bartlett Experimental Forest  Courtney Meier   \n",
              "4  GBOV_RM7_973  Bartlett Experimental Forest  Courtney Meier   \n",
              "\n",
              "        GROUND_DATA_PIs_Email                          GBOV_Email Network  \\\n",
              "0  cmeier@battelleecology.org  support-copernicus-gbov@acri-st.fr    NEON   \n",
              "1  cmeier@battelleecology.org  support-copernicus-gbov@acri-st.fr    NEON   \n",
              "2  cmeier@battelleecology.org  support-copernicus-gbov@acri-st.fr    NEON   \n",
              "3  cmeier@battelleecology.org  support-copernicus-gbov@acri-st.fr    NEON   \n",
              "4  cmeier@battelleecology.org  support-copernicus-gbov@acri-st.fr    NEON   \n",
              "\n",
              "   Elevation    IGBP_class     Lat_IS     Lon_IS  ... LAI_Miller_down_err  \\\n",
              "0        232  Mixed Forest  44.063901 -71.287308  ...            0.038954   \n",
              "1        232  Mixed Forest  44.063901 -71.287308  ...            0.043254   \n",
              "2        232  Mixed Forest  44.063901 -71.287308  ...            0.066568   \n",
              "3        232  Mixed Forest  44.063901 -71.287308  ...            0.017358   \n",
              "4        232  Mixed Forest  44.063901 -71.287308  ...             0.05235   \n",
              "\n",
              "   LAI_Warren_down_err  LAIe_Miller_down_err  LAIe_Warren_down_err  \\\n",
              "0             0.037536              0.025952              0.027376   \n",
              "1             0.059245               0.03314              0.050986   \n",
              "2             0.067922              0.034103              0.039934   \n",
              "3             0.029335              0.015763              0.026817   \n",
              "4             0.065564              0.041639              0.050919   \n",
              "\n",
              "   clumping_Miller_down  clumping_Warren_down  clumping_Miller_up_err  \\\n",
              "0              0.870976              0.914188                0.020388   \n",
              "1              0.899206              0.927963                0.018524   \n",
              "2              0.848925              0.909968                0.017414   \n",
              "3              0.953405              0.961113                0.019804   \n",
              "4              0.888029              0.906574                0.017908   \n",
              "\n",
              "   clumping_Warren_up_err clumping_Miller_down_err clumping_Warren_down_err  \n",
              "0                0.045145                 0.086048                 0.119765  \n",
              "1                0.039834                 0.069546                 0.129738  \n",
              "2                0.039298                 0.075073                 0.126795  \n",
              "3                0.040532                 0.065676                 0.131289  \n",
              "4                0.037853                 0.075053                 0.123742  \n",
              "\n",
              "[5 rows x 38 columns]"
            ]
          },
          "execution_count": 9,
          "metadata": {},
          "output_type": "execute_result"
        }
      ],
      "source": [
        "df_juntos = []\n",
        "for file in valid_files_list:\n",
        "    df_invidual = pd.read_csv(file, sep=';')\n",
        "\n",
        "    # Limpiar los nombres de las columnas\n",
        "    df_invidual.columns = df_invidual.columns.str.strip()  # Elimina espacios extra en los nombres de las columnas\n",
        "    if len(df_invidual.columns) != 38:\n",
        "       print(len(df_invidual.columns))\n",
        "       print(file)\n",
        "\n",
        "    df_juntos.append(df_invidual)  # Agregar cada DataFrame a la lista\n",
        "\n",
        "# Combinar todos los DataFrames en uno solo\n",
        "df_insitu = pd.concat(df_juntos, axis=0, ignore_index=True)\n",
        "\n",
        "# Verificar el DataFrame combinado\n",
        "df_insitu.head()"
      ]
    },
    {
      "cell_type": "markdown",
      "metadata": {
        "id": "obSPjvGSdYrv"
      },
      "source": [
        "Hacemos inventario de los sites y coordenadas de los medidas de campo."
      ]
    },
    {
      "cell_type": "code",
      "execution_count": 10,
      "metadata": {
        "colab": {
          "base_uri": "https://localhost:8080/"
        },
        "id": "DLxDo97y26S9",
        "outputId": "09a272c1-92b5-4aae-9ea2-288ee8c0f770"
      },
      "outputs": [
        {
          "data": {
            "text/plain": [
              "(('Bartlett Experimental Forest', 44.063901, -71.287308),\n",
              " ('Blandy Experimental Farm', 39.0602607727051, -78.0716400146484),\n",
              " ('Lyndon B. Johnson National Grassland', 33.40123, -97.57),\n",
              " ('Central Plains Experimental Range', 40.81555, -104.74566),\n",
              " ('Dead Lake', 32.54172, -87.80389),\n",
              " ('Disney Wilderness Preserve', 28.1250400543213, -81.43625),\n",
              " ('Harvard Forest', 42.5377998352051, -72.171501159668),\n",
              " ('Jones Ecological Research Center', 31.1948394775391, -84.468777),\n",
              " ('Jornada', 32.5907, -106.84261),\n",
              " ('Konza Prairie Biological Station', 39.110446, -96.612935),\n",
              " ('Lajas Experimental Station', 18.02125, -67.0769),\n",
              " ('Lenoir Landing', 31.853861, -88.161181),\n",
              " ('Moab', 38.24836, -109.38831),\n",
              " ('Niwot Ridge Mountain Research Station', 40.0543, -105.58245),\n",
              " ('Onaqui Ault', 40.1775894165039, -112.452438354492),\n",
              " ('Oak Ridge', 35.9641189575195, -84.282600402832),\n",
              " ('Ordway Swisher Biological Station', 29.6839, -81.9934),\n",
              " ('Pu u Maka ala Natural Area Reserve', 19.55309, -155.31731),\n",
              " ('Smithsonian Conservation Biology Institute',\n",
              "  38.8929214477539,\n",
              "  -78.1395034790039),\n",
              " ('Smithsonian Environmental Research Center', 38.89016, -76.5601),\n",
              " ('Soaproot Saddle', 37.03337, -119.26219),\n",
              " ('Santa Rita', 31.91068, -110.83549),\n",
              " ('Steigerwaldt Land Services', 45.5089416503906, -89.5863723754883),\n",
              " ('North Sterling', 40.461952, -103.02934),\n",
              " ('Talladega National Forest', 32.9504585266113, -87.3932723999023),\n",
              " ('Lower Teakettle', 37.00583, -119.00602),\n",
              " ('University of Kansas Field Site', 39.040431, -95.19215),\n",
              " ('Underc', 46.233959, -89.53751),\n",
              " ('Woodworth', 47.128231048584, -99.2413635253906))"
            ]
          },
          "execution_count": 10,
          "metadata": {},
          "output_type": "execute_result"
        }
      ],
      "source": [
        "df_coord = df_insitu[['Site','Lat_IS', 'Lon_IS']].drop_duplicates()\n",
        "coordenadas = tuple(zip(df_coord['Site'].values.tolist(), df_coord['Lat_IS'].values.tolist(), df_coord['Lon_IS'].values.tolist()))\n",
        "coordenadas"
      ]
    },
    {
      "cell_type": "code",
      "execution_count": 11,
      "metadata": {
        "colab": {
          "base_uri": "https://localhost:8080/"
        },
        "id": "9oymaFu3J95F",
        "outputId": "0d6e9351-e47c-4177-b77d-c55a1427aaed"
      },
      "outputs": [
        {
          "name": "stdout",
          "output_type": "stream",
          "text": [
            "<class 'pandas.core.frame.DataFrame'>\n",
            "RangeIndex: 9406 entries, 0 to 9405\n",
            "Data columns (total 38 columns):\n",
            " #   Column                    Non-Null Count  Dtype  \n",
            "---  ------                    --------------  -----  \n",
            " 0   GBOV_ID                   9406 non-null   object \n",
            " 1   Site                      9406 non-null   object \n",
            " 2   GROUND_DATA_PI            9176 non-null   object \n",
            " 3   GROUND_DATA_PIs_Email     9176 non-null   object \n",
            " 4   GBOV_Email                9406 non-null   object \n",
            " 5   Network                   9406 non-null   object \n",
            " 6   Elevation                 9406 non-null   int64  \n",
            " 7   IGBP_class                9406 non-null   object \n",
            " 8   Lat_IS                    9406 non-null   float64\n",
            " 9   Lon_IS                    9406 non-null   float64\n",
            " 10  TIME_IS                   9406 non-null   object \n",
            " 11  Version                   9406 non-null   float64\n",
            " 12  up_flag                   7713 non-null   float64\n",
            " 13  down_flag                 7713 non-null   float64\n",
            " 14  LAI_Miller_up             7713 non-null   float64\n",
            " 15  LAI_Warren_up             7713 non-null   float64\n",
            " 16  LAIe_Miller_up            7713 non-null   float64\n",
            " 17  LAIe_Warren_up            7713 non-null   float64\n",
            " 18  LAI_Miller_down           7713 non-null   object \n",
            " 19  LAI_Warren_down           7713 non-null   object \n",
            " 20  LAIe_Miller_down          7713 non-null   object \n",
            " 21  LAIe_Warren_down          7713 non-null   object \n",
            " 22  LAI_Miller_up_err         7713 non-null   float64\n",
            " 23  LAI_Warren_up_err         7713 non-null   float64\n",
            " 24  LAIe_Miller_up_err        7713 non-null   float64\n",
            " 25  LAIe_Warren_up_err        7713 non-null   float64\n",
            " 26  clumping_Miller_up        7713 non-null   float64\n",
            " 27  clumping_Warren_up        7713 non-null   float64\n",
            " 28  LAI_Miller_down_err       7713 non-null   object \n",
            " 29  LAI_Warren_down_err       7713 non-null   object \n",
            " 30  LAIe_Miller_down_err      7713 non-null   object \n",
            " 31  LAIe_Warren_down_err      7713 non-null   object \n",
            " 32  clumping_Miller_down      7713 non-null   float64\n",
            " 33  clumping_Warren_down      7713 non-null   float64\n",
            " 34  clumping_Miller_up_err    7713 non-null   float64\n",
            " 35  clumping_Warren_up_err    7713 non-null   float64\n",
            " 36  clumping_Miller_down_err  7713 non-null   float64\n",
            " 37  clumping_Warren_down_err  7713 non-null   float64\n",
            "dtypes: float64(21), int64(1), object(16)\n",
            "memory usage: 2.7+ MB\n"
          ]
        }
      ],
      "source": [
        "df_insitu.info()"
      ]
    },
    {
      "cell_type": "markdown",
      "metadata": {
        "id": "-AimcxwFuz1g"
      },
      "source": [
        "Grabamos el csv del dataframe insitu crudo"
      ]
    },
    {
      "cell_type": "code",
      "execution_count": null,
      "metadata": {
        "id": "nTu3OS4hu5cP"
      },
      "outputs": [],
      "source": [
        "# Para Google Colab\n",
        "#df_insitu_backup = df_insitu.copy()\n",
        "#df_insitu.to_csv(drive_path + 'NEON_LAI_USA_2017_2022.csv')"
      ]
    },
    {
      "cell_type": "code",
      "execution_count": 12,
      "metadata": {},
      "outputs": [],
      "source": [
        "# Para local\n",
        "df_insitu_backup = df_insitu.copy()\n",
        "df_insitu.to_csv('../data/prueba_NEON_LAI_USA_2017_2022.csv')"
      ]
    }
  ],
  "metadata": {
    "colab": {
      "provenance": []
    },
    "kernelspec": {
      "display_name": "Python 3",
      "name": "python3"
    },
    "language_info": {
      "codemirror_mode": {
        "name": "ipython",
        "version": 3
      },
      "file_extension": ".py",
      "mimetype": "text/x-python",
      "name": "python",
      "nbconvert_exporter": "python",
      "pygments_lexer": "ipython3",
      "version": "3.12.2"
    }
  },
  "nbformat": 4,
  "nbformat_minor": 0
}
